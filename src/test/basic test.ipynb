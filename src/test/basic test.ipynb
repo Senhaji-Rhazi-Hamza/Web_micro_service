{
 "cells": [
  {
   "cell_type": "code",
   "execution_count": 1,
   "metadata": {},
   "outputs": [],
   "source": [
    "import os\n",
    "import sys\n",
    "sys.path.append('../')"
   ]
  },
  {
   "cell_type": "code",
   "execution_count": 2,
   "metadata": {},
   "outputs": [
    {
     "name": "stderr",
     "output_type": "stream",
     "text": [
      "/usr/local/lib/python3.6/dist-packages/psycopg2/__init__.py:144: UserWarning: The psycopg2 wheel package will be renamed from release 2.8; in order to keep installing from binary please use \"pip install psycopg2-binary\" instead. For details see: <http://initd.org/psycopg/docs/install.html#binary-install-from-pypi>.\n",
      "  \"\"\")\n"
     ]
    }
   ],
   "source": [
    "import psycopg2\n",
    "import hashlib\n",
    "import requests\n",
    "import json"
   ]
  },
  {
   "cell_type": "code",
   "execution_count": 3,
   "metadata": {},
   "outputs": [],
   "source": [
    "from server import PARAM_LOGIN_LIKE,PARAM_SIGNUP_LIKE,PARAM_ADD_PROPERTY_LIKE, PARAM_UPD_USER_LIKE,\\\n",
    "                   PARAM_REM_PROPERTY_LIKE, PARAM_UPD_PROPERTY_LIKE, PARAM_ADD_ROOM_PROPERTY_LIKE, \\\n",
    "                   PARAM_UPD_ROOM_PROPERTY_LIKE, PARAM_CON_PROPERTY_LIKE\n"
   ]
  },
  {
   "cell_type": "code",
   "execution_count": 4,
   "metadata": {},
   "outputs": [
    {
     "data": {
      "text/plain": [
       "{'firstname': 'senhaj_h',\n",
       " 'lastname': 'SENHAJI RHAZI',\n",
       " 'birth_date': '12/11/1992',\n",
       " 'city_name': 'Paris',\n",
       " 'password': 'password'}"
      ]
     },
     "execution_count": 4,
     "metadata": {},
     "output_type": "execute_result"
    }
   ],
   "source": [
    "json.loads(PARAM_SIGNUP_LIKE)"
   ]
  },
  {
   "cell_type": "code",
   "execution_count": 5,
   "metadata": {},
   "outputs": [
    {
     "data": {
      "text/plain": [
       "'0.0.0.0:8300/web_service'"
      ]
     },
     "execution_count": 5,
     "metadata": {},
     "output_type": "execute_result"
    }
   ],
   "source": [
    "with open('../config.json') as f:\n",
    "    cfg = json.load(f)\n",
    "cfg_server = cfg['server']\n",
    "entry = cfg_server['host'] + ':' + str(cfg_server['port']) + \"/web_service\"\n",
    "entry"
   ]
  },
  {
   "cell_type": "code",
   "execution_count": 6,
   "metadata": {},
   "outputs": [
    {
     "name": "stdout",
     "output_type": "stream",
     "text": [
      "<Response [200]>\n",
      "{'ERROR': 'NONE', 'STATUS': 'OK', 'results': None}\n"
     ]
    }
   ],
   "source": [
    "r = requests.post(\"http://\"+entry+\"/signup\",json=json.loads(PARAM_SIGNUP_LIKE))\n",
    "print(r)\n",
    "if (r.status_code == 200):\n",
    "    print(r.json())"
   ]
  },
  {
   "cell_type": "code",
   "execution_count": 7,
   "metadata": {},
   "outputs": [
    {
     "data": {
      "text/plain": [
       "{'firstname': 'Hamza',\n",
       " 'lastname': 'SENHAJI RHAZI',\n",
       " 'password': 'password',\n",
       " 'new_firstname': 'Hamza',\n",
       " 'new_lastname': 'SENHAJI RHAZI',\n",
       " 'new_birth_date': '12/11/1992',\n",
       " 'new_city_name': 'paris',\n",
       " 'new_password': 'new_password'}"
      ]
     },
     "execution_count": 7,
     "metadata": {},
     "output_type": "execute_result"
    }
   ],
   "source": [
    "json.loads(PARAM_UPD_USER_LIKE)"
   ]
  },
  {
   "cell_type": "code",
   "execution_count": 8,
   "metadata": {},
   "outputs": [
    {
     "name": "stdout",
     "output_type": "stream",
     "text": [
      "<Response [200]>\n",
      "{'ERROR': 'NONE', 'STATUS': 'OK', 'results': None}\n"
     ]
    }
   ],
   "source": [
    "#UPDATING USER changing firstname\n",
    "r = requests.post(\"http://\"+entry+\"/update_account\",json=json.loads(PARAM_UPD_USER_LIKE))\n",
    "print(r)\n",
    "if (r.status_code == 200):\n",
    "    print(r.json())"
   ]
  },
  {
   "cell_type": "code",
   "execution_count": 9,
   "metadata": {},
   "outputs": [
    {
     "name": "stdout",
     "output_type": "stream",
     "text": [
      "<Response [200]>\n",
      "{'ERROR': 'NONE', 'STATUS': 'OK', 'results': None}\n"
     ]
    }
   ],
   "source": [
    "#ADDING PROPERTY TO USER\n",
    "r = requests.post(\"http://\"+entry+\"/add_new_property\",json=json.loads(PARAM_ADD_PROPERTY_LIKE))\n",
    "print(r)\n",
    "if (r.status_code == 200):\n",
    "    print(r.json())"
   ]
  },
  {
   "cell_type": "code",
   "execution_count": 10,
   "metadata": {},
   "outputs": [
    {
     "name": "stdout",
     "output_type": "stream",
     "text": [
      "<Response [200]>\n",
      "{'ERROR': 'NONE', 'STATUS': 'OK', 'results': None}\n"
     ]
    }
   ],
   "source": [
    "#ADD ROOM TO PROPERTY\n",
    "r = requests.post(\"http://\"+entry+\"/add_room_to_property\",json=json.loads(PARAM_ADD_ROOM_PROPERTY_LIKE))\n",
    "print(r)\n",
    "if (r.status_code == 200):\n",
    "    print(r.json())"
   ]
  },
  {
   "cell_type": "code",
   "execution_count": 11,
   "metadata": {},
   "outputs": [
    {
     "name": "stdout",
     "output_type": "stream",
     "text": [
      "<Response [200]>\n",
      "{'ERROR': 'NONE', 'STATUS': 'OK', 'results': [{'number_of_room': 1, 'properties': 'MyProperty'}]}\n"
     ]
    }
   ],
   "source": [
    "#CONSULT PROPERTIES OF A CITY\n",
    "r = requests.post(\"http://\"+entry+\"/consult_properties\",json=json.loads(PARAM_CON_PROPERTY_LIKE))\n",
    "print(r)\n",
    "if (r.status_code == 200):\n",
    "    print(r.json())"
   ]
  },
  {
   "cell_type": "code",
   "execution_count": null,
   "metadata": {},
   "outputs": [],
   "source": []
  }
 ],
 "metadata": {
  "kernelspec": {
   "display_name": "Python 3",
   "language": "python",
   "name": "python3"
  },
  "language_info": {
   "codemirror_mode": {
    "name": "ipython",
    "version": 3
   },
   "file_extension": ".py",
   "mimetype": "text/x-python",
   "name": "python",
   "nbconvert_exporter": "python",
   "pygments_lexer": "ipython3",
   "version": "3.6.6"
  }
 },
 "nbformat": 4,
 "nbformat_minor": 2
}
